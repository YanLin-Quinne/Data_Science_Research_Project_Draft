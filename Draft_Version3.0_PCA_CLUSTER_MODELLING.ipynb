{
 "cells": [
  {
   "cell_type": "code",
   "execution_count": 25,
   "id": "a3fcc88d",
   "metadata": {},
   "outputs": [],
   "source": [
    "#read package\n",
    "import pandas as pd\n",
    "import seaborn as sns\n",
    "import matplotlib.pyplot as plt\n",
    "import numpy as np\n",
    "\n",
    "#Train Test Split\n",
    "from sklearn.model_selection import train_test_split\n",
    "\n",
    "from sklearn.tree import DecisionTreeClassifier\n",
    "from sklearn.tree import DecisionTreeRegressor\n",
    "from sklearn.ensemble import BaggingClassifier, RandomForestClassifier, GradientBoostingClassifier\n",
    "\n",
    "from sklearn.linear_model import LinearRegression\n",
    "from sklearn.linear_model import LogisticRegression\n",
    "\n",
    "from sklearn.model_selection import cross_val_score\n",
    "\n",
    "from sklearn.naive_bayes import GaussianNB\n",
    "from sklearn.naive_bayes import MultinomialNB\n",
    "from sklearn.naive_bayes import BernoulliNB\n",
    "\n",
    "from sklearn import tree\n",
    "from sklearn.neighbors import KNeighborsClassifier\n",
    "\n",
    "from sklearn.metrics import confusion_matrix, accuracy_score, f1_score,precision_score,recall_score,classification_report\n",
    "from sklearn.metrics import roc_curve, auc\n",
    "from scipy.stats import chi2_contingency\n",
    "\n",
    "from sklearn.preprocessing import StandardScaler\n",
    "from sklearn.decomposition import PCA\n",
    "from sklearn.cluster import KMeans\n",
    "from sklearn.metrics import silhouette_score, adjusted_rand_score\n",
    "from sklearn.cluster import AgglomerativeClustering\n",
    "from sklearn import metrics\n",
    "from sklearn.metrics import plot_confusion_matrix\n",
    "\n",
    "from sklearn.metrics import classification_report\n",
    "from sklearn.pipeline import Pipeline\n",
    "from sklearn.feature_selection import SelectFromModel\n",
    "\n",
    "from sklearn import svm\n",
    "from scipy import stats"
   ]
  },
  {
   "cell_type": "code",
   "execution_count": 2,
   "id": "aafd9119",
   "metadata": {},
   "outputs": [],
   "source": [
    "df_bat = pd.read_csv('/Users/quinne/Desktop/encode.csv')"
   ]
  },
  {
   "cell_type": "code",
   "execution_count": 3,
   "id": "2d43c3b5",
   "metadata": {},
   "outputs": [
    {
     "data": {
      "text/html": [
       "<div>\n",
       "<style scoped>\n",
       "    .dataframe tbody tr th:only-of-type {\n",
       "        vertical-align: middle;\n",
       "    }\n",
       "\n",
       "    .dataframe tbody tr th {\n",
       "        vertical-align: top;\n",
       "    }\n",
       "\n",
       "    .dataframe thead th {\n",
       "        text-align: right;\n",
       "    }\n",
       "</style>\n",
       "<table border=\"1\" class=\"dataframe\">\n",
       "  <thead>\n",
       "    <tr style=\"text-align: right;\">\n",
       "      <th></th>\n",
       "      <th>Result</th>\n",
       "      <th>match_number</th>\n",
       "      <th>total_score</th>\n",
       "      <th>total_wickets_player_out</th>\n",
       "      <th>team</th>\n",
       "      <th>opponent</th>\n",
       "      <th>gender</th>\n",
       "      <th>season</th>\n",
       "      <th>month</th>\n",
       "      <th>day</th>\n",
       "      <th>...</th>\n",
       "      <th>city</th>\n",
       "      <th>toss_winner</th>\n",
       "      <th>winner</th>\n",
       "      <th>choose_to_bat</th>\n",
       "      <th>forced_to_bat</th>\n",
       "      <th>avg_win_rate</th>\n",
       "      <th>avg_score</th>\n",
       "      <th>avg_wickets_out</th>\n",
       "      <th>last_match_result</th>\n",
       "      <th>toss_result</th>\n",
       "    </tr>\n",
       "  </thead>\n",
       "  <tbody>\n",
       "    <tr>\n",
       "      <th>0</th>\n",
       "      <td>0</td>\n",
       "      <td>1.0</td>\n",
       "      <td>135</td>\n",
       "      <td>6</td>\n",
       "      <td>2</td>\n",
       "      <td>4</td>\n",
       "      <td>0</td>\n",
       "      <td>2021</td>\n",
       "      <td>7</td>\n",
       "      <td>21</td>\n",
       "      <td>...</td>\n",
       "      <td>3</td>\n",
       "      <td>2</td>\n",
       "      <td>4</td>\n",
       "      <td>1</td>\n",
       "      <td>0</td>\n",
       "      <td>0.000000</td>\n",
       "      <td>0.000000</td>\n",
       "      <td>0.000000</td>\n",
       "      <td>0</td>\n",
       "      <td>0</td>\n",
       "    </tr>\n",
       "    <tr>\n",
       "      <th>1</th>\n",
       "      <td>1</td>\n",
       "      <td>1.0</td>\n",
       "      <td>145</td>\n",
       "      <td>8</td>\n",
       "      <td>4</td>\n",
       "      <td>2</td>\n",
       "      <td>1</td>\n",
       "      <td>2021</td>\n",
       "      <td>7</td>\n",
       "      <td>22</td>\n",
       "      <td>...</td>\n",
       "      <td>3</td>\n",
       "      <td>2</td>\n",
       "      <td>4</td>\n",
       "      <td>0</td>\n",
       "      <td>1</td>\n",
       "      <td>0.000000</td>\n",
       "      <td>0.000000</td>\n",
       "      <td>0.000000</td>\n",
       "      <td>0</td>\n",
       "      <td>0</td>\n",
       "    </tr>\n",
       "    <tr>\n",
       "      <th>2</th>\n",
       "      <td>0</td>\n",
       "      <td>2.0</td>\n",
       "      <td>128</td>\n",
       "      <td>6</td>\n",
       "      <td>0</td>\n",
       "      <td>1</td>\n",
       "      <td>0</td>\n",
       "      <td>2021</td>\n",
       "      <td>7</td>\n",
       "      <td>23</td>\n",
       "      <td>...</td>\n",
       "      <td>0</td>\n",
       "      <td>1</td>\n",
       "      <td>1</td>\n",
       "      <td>0</td>\n",
       "      <td>1</td>\n",
       "      <td>0.000000</td>\n",
       "      <td>0.000000</td>\n",
       "      <td>0.000000</td>\n",
       "      <td>0</td>\n",
       "      <td>1</td>\n",
       "    </tr>\n",
       "    <tr>\n",
       "      <th>3</th>\n",
       "      <td>0</td>\n",
       "      <td>2.0</td>\n",
       "      <td>144</td>\n",
       "      <td>6</td>\n",
       "      <td>1</td>\n",
       "      <td>0</td>\n",
       "      <td>1</td>\n",
       "      <td>2021</td>\n",
       "      <td>7</td>\n",
       "      <td>23</td>\n",
       "      <td>...</td>\n",
       "      <td>0</td>\n",
       "      <td>0</td>\n",
       "      <td>0</td>\n",
       "      <td>0</td>\n",
       "      <td>1</td>\n",
       "      <td>0.000000</td>\n",
       "      <td>0.000000</td>\n",
       "      <td>0.000000</td>\n",
       "      <td>0</td>\n",
       "      <td>1</td>\n",
       "    </tr>\n",
       "    <tr>\n",
       "      <th>4</th>\n",
       "      <td>1</td>\n",
       "      <td>3.0</td>\n",
       "      <td>133</td>\n",
       "      <td>5</td>\n",
       "      <td>5</td>\n",
       "      <td>6</td>\n",
       "      <td>0</td>\n",
       "      <td>2021</td>\n",
       "      <td>7</td>\n",
       "      <td>24</td>\n",
       "      <td>...</td>\n",
       "      <td>5</td>\n",
       "      <td>6</td>\n",
       "      <td>5</td>\n",
       "      <td>0</td>\n",
       "      <td>1</td>\n",
       "      <td>0.000000</td>\n",
       "      <td>0.000000</td>\n",
       "      <td>0.000000</td>\n",
       "      <td>0</td>\n",
       "      <td>0</td>\n",
       "    </tr>\n",
       "    <tr>\n",
       "      <th>...</th>\n",
       "      <td>...</td>\n",
       "      <td>...</td>\n",
       "      <td>...</td>\n",
       "      <td>...</td>\n",
       "      <td>...</td>\n",
       "      <td>...</td>\n",
       "      <td>...</td>\n",
       "      <td>...</td>\n",
       "      <td>...</td>\n",
       "      <td>...</td>\n",
       "      <td>...</td>\n",
       "      <td>...</td>\n",
       "      <td>...</td>\n",
       "      <td>...</td>\n",
       "      <td>...</td>\n",
       "      <td>...</td>\n",
       "      <td>...</td>\n",
       "      <td>...</td>\n",
       "      <td>...</td>\n",
       "      <td>...</td>\n",
       "      <td>...</td>\n",
       "    </tr>\n",
       "    <tr>\n",
       "      <th>118</th>\n",
       "      <td>0</td>\n",
       "      <td>32.0</td>\n",
       "      <td>143</td>\n",
       "      <td>9</td>\n",
       "      <td>4</td>\n",
       "      <td>2</td>\n",
       "      <td>1</td>\n",
       "      <td>2022</td>\n",
       "      <td>8</td>\n",
       "      <td>31</td>\n",
       "      <td>...</td>\n",
       "      <td>4</td>\n",
       "      <td>4</td>\n",
       "      <td>2</td>\n",
       "      <td>1</td>\n",
       "      <td>0</td>\n",
       "      <td>0.571429</td>\n",
       "      <td>147.285714</td>\n",
       "      <td>6.071429</td>\n",
       "      <td>1</td>\n",
       "      <td>0</td>\n",
       "    </tr>\n",
       "    <tr>\n",
       "      <th>119</th>\n",
       "      <td>0</td>\n",
       "      <td>40.0</td>\n",
       "      <td>150</td>\n",
       "      <td>7</td>\n",
       "      <td>1</td>\n",
       "      <td>2</td>\n",
       "      <td>1</td>\n",
       "      <td>2022</td>\n",
       "      <td>9</td>\n",
       "      <td>2</td>\n",
       "      <td>...</td>\n",
       "      <td>6</td>\n",
       "      <td>1</td>\n",
       "      <td>2</td>\n",
       "      <td>1</td>\n",
       "      <td>0</td>\n",
       "      <td>0.400000</td>\n",
       "      <td>145.200000</td>\n",
       "      <td>5.933333</td>\n",
       "      <td>0</td>\n",
       "      <td>0</td>\n",
       "    </tr>\n",
       "    <tr>\n",
       "      <th>120</th>\n",
       "      <td>1</td>\n",
       "      <td>40.0</td>\n",
       "      <td>134</td>\n",
       "      <td>6</td>\n",
       "      <td>5</td>\n",
       "      <td>6</td>\n",
       "      <td>0</td>\n",
       "      <td>2022</td>\n",
       "      <td>9</td>\n",
       "      <td>2</td>\n",
       "      <td>...</td>\n",
       "      <td>6</td>\n",
       "      <td>6</td>\n",
       "      <td>5</td>\n",
       "      <td>0</td>\n",
       "      <td>1</td>\n",
       "      <td>0.800000</td>\n",
       "      <td>125.066667</td>\n",
       "      <td>5.800000</td>\n",
       "      <td>0</td>\n",
       "      <td>0</td>\n",
       "    </tr>\n",
       "    <tr>\n",
       "      <th>121</th>\n",
       "      <td>0</td>\n",
       "      <td>50.0</td>\n",
       "      <td>120</td>\n",
       "      <td>9</td>\n",
       "      <td>2</td>\n",
       "      <td>6</td>\n",
       "      <td>1</td>\n",
       "      <td>2022</td>\n",
       "      <td>9</td>\n",
       "      <td>3</td>\n",
       "      <td>...</td>\n",
       "      <td>3</td>\n",
       "      <td>2</td>\n",
       "      <td>6</td>\n",
       "      <td>1</td>\n",
       "      <td>0</td>\n",
       "      <td>0.533333</td>\n",
       "      <td>157.400000</td>\n",
       "      <td>6.333333</td>\n",
       "      <td>1</td>\n",
       "      <td>0</td>\n",
       "    </tr>\n",
       "    <tr>\n",
       "      <th>122</th>\n",
       "      <td>0</td>\n",
       "      <td>50.0</td>\n",
       "      <td>101</td>\n",
       "      <td>7</td>\n",
       "      <td>5</td>\n",
       "      <td>4</td>\n",
       "      <td>0</td>\n",
       "      <td>2022</td>\n",
       "      <td>9</td>\n",
       "      <td>3</td>\n",
       "      <td>...</td>\n",
       "      <td>3</td>\n",
       "      <td>5</td>\n",
       "      <td>4</td>\n",
       "      <td>1</td>\n",
       "      <td>0</td>\n",
       "      <td>0.812500</td>\n",
       "      <td>125.625000</td>\n",
       "      <td>5.812500</td>\n",
       "      <td>1</td>\n",
       "      <td>0</td>\n",
       "    </tr>\n",
       "  </tbody>\n",
       "</table>\n",
       "<p>123 rows × 22 columns</p>\n",
       "</div>"
      ],
      "text/plain": [
       "     Result  match_number  total_score  total_wickets_player_out  team  \\\n",
       "0         0           1.0          135                         6     2   \n",
       "1         1           1.0          145                         8     4   \n",
       "2         0           2.0          128                         6     0   \n",
       "3         0           2.0          144                         6     1   \n",
       "4         1           3.0          133                         5     5   \n",
       "..      ...           ...          ...                       ...   ...   \n",
       "118       0          32.0          143                         9     4   \n",
       "119       0          40.0          150                         7     1   \n",
       "120       1          40.0          134                         6     5   \n",
       "121       0          50.0          120                         9     2   \n",
       "122       0          50.0          101                         7     5   \n",
       "\n",
       "     opponent  gender  season  month  day  ...  city  toss_winner  winner  \\\n",
       "0           4       0    2021      7   21  ...     3            2       4   \n",
       "1           2       1    2021      7   22  ...     3            2       4   \n",
       "2           1       0    2021      7   23  ...     0            1       1   \n",
       "3           0       1    2021      7   23  ...     0            0       0   \n",
       "4           6       0    2021      7   24  ...     5            6       5   \n",
       "..        ...     ...     ...    ...  ...  ...   ...          ...     ...   \n",
       "118         2       1    2022      8   31  ...     4            4       2   \n",
       "119         2       1    2022      9    2  ...     6            1       2   \n",
       "120         6       0    2022      9    2  ...     6            6       5   \n",
       "121         6       1    2022      9    3  ...     3            2       6   \n",
       "122         4       0    2022      9    3  ...     3            5       4   \n",
       "\n",
       "     choose_to_bat  forced_to_bat  avg_win_rate   avg_score  avg_wickets_out  \\\n",
       "0                1              0      0.000000    0.000000         0.000000   \n",
       "1                0              1      0.000000    0.000000         0.000000   \n",
       "2                0              1      0.000000    0.000000         0.000000   \n",
       "3                0              1      0.000000    0.000000         0.000000   \n",
       "4                0              1      0.000000    0.000000         0.000000   \n",
       "..             ...            ...           ...         ...              ...   \n",
       "118              1              0      0.571429  147.285714         6.071429   \n",
       "119              1              0      0.400000  145.200000         5.933333   \n",
       "120              0              1      0.800000  125.066667         5.800000   \n",
       "121              1              0      0.533333  157.400000         6.333333   \n",
       "122              1              0      0.812500  125.625000         5.812500   \n",
       "\n",
       "     last_match_result  toss_result  \n",
       "0                    0            0  \n",
       "1                    0            0  \n",
       "2                    0            1  \n",
       "3                    0            1  \n",
       "4                    0            0  \n",
       "..                 ...          ...  \n",
       "118                  1            0  \n",
       "119                  0            0  \n",
       "120                  0            0  \n",
       "121                  1            0  \n",
       "122                  1            0  \n",
       "\n",
       "[123 rows x 22 columns]"
      ]
     },
     "execution_count": 3,
     "metadata": {},
     "output_type": "execute_result"
    }
   ],
   "source": [
    "df_bat"
   ]
  },
  {
   "cell_type": "markdown",
   "id": "a656afdc",
   "metadata": {},
   "source": [
    "### PCA or Lasso?"
   ]
  },
  {
   "cell_type": "code",
   "execution_count": 4,
   "id": "0ed0dc8a",
   "metadata": {},
   "outputs": [
    {
     "name": "stdout",
     "output_type": "stream",
     "text": [
      "              precision    recall  f1-score   support\n",
      "\n",
      "           0       0.75      0.69      0.72        13\n",
      "           1       0.69      0.75      0.72        12\n",
      "\n",
      "    accuracy                           0.72        25\n",
      "   macro avg       0.72      0.72      0.72        25\n",
      "weighted avg       0.72      0.72      0.72        25\n",
      "\n",
      "[[9 4]\n",
      " [3 9]]\n",
      "              precision    recall  f1-score   support\n",
      "\n",
      "           0       0.85      0.85      0.85        13\n",
      "           1       0.83      0.83      0.83        12\n",
      "\n",
      "    accuracy                           0.84        25\n",
      "   macro avg       0.84      0.84      0.84        25\n",
      "weighted avg       0.84      0.84      0.84        25\n",
      "\n",
      "[[11  2]\n",
      " [ 2 10]]\n"
     ]
    }
   ],
   "source": [
    "X = df_bat.drop('Result', axis=1)\n",
    "y = df_bat['Result']\n",
    "\n",
    "X_train, X_test, y_train, y_test = train_test_split(X, y, test_size=0.2, random_state=42)\n",
    "\n",
    "# Create a pipeline for scaling, PCA, and logistic regression\n",
    "pipe = Pipeline([\n",
    "    ('scaler', StandardScaler()),\n",
    "    ('pca', PCA(n_components=0.95)),\n",
    "    ('logistic', LogisticRegression())\n",
    "])\n",
    "\n",
    "pipe.fit(X_train, y_train)\n",
    "y_pred = pipe.predict(X_test)\n",
    "print(classification_report(y_test, y_pred))\n",
    "print(confusion_matrix(y_test, y_pred))\n",
    "\n",
    "# Using Lasso for feature selection\n",
    "lasso = LogisticRegression(penalty='l1', solver='liblinear')\n",
    "selector = SelectFromModel(estimator=lasso)\n",
    "\n",
    "# Create pipeline for scaling, feature selection, and logistic regression\n",
    "pipe_lasso = Pipeline([\n",
    "    ('scaler', StandardScaler()),\n",
    "    ('selector', selector),\n",
    "    ('logistic', LogisticRegression())\n",
    "])\n",
    "\n",
    "# Fit and evaluate the model\n",
    "pipe_lasso.fit(X_train, y_train)\n",
    "y_pred_lasso = pipe_lasso.predict(X_test)\n",
    "print(classification_report(y_test, y_pred_lasso))\n",
    "print(confusion_matrix(y_test, y_pred_lasso))"
   ]
  },
  {
   "cell_type": "code",
   "execution_count": 5,
   "id": "f9e82f11",
   "metadata": {},
   "outputs": [
    {
     "name": "stdout",
     "output_type": "stream",
     "text": [
      "Number of PCA components:  10\n"
     ]
    }
   ],
   "source": [
    "x = df_bat.values\n",
    "x = StandardScaler().fit_transform(x) # Standardize the features\n",
    "\n",
    "# Create a PCA that will retain 80% of the variance\n",
    "pca = PCA(n_components=0.80, whiten=True)\n",
    "x_pca = pca.fit_transform(x)\n",
    "\n",
    "print('Number of PCA components: ', pca.n_components_)"
   ]
  },
  {
   "cell_type": "code",
   "execution_count": 6,
   "id": "2829ed52",
   "metadata": {},
   "outputs": [
    {
     "name": "stderr",
     "output_type": "stream",
     "text": [
      "/Users/quinne/opt/anaconda3/lib/python3.9/site-packages/sklearn/model_selection/_validation.py:372: FitFailedWarning: \n",
      "5 fits failed out of a total of 5.\n",
      "The score on these train-test partitions for these parameters will be set to nan.\n",
      "If these failures are not expected, you can try to debug them by setting error_score='raise'.\n",
      "\n",
      "Below are more details about the failures:\n",
      "--------------------------------------------------------------------------------\n",
      "5 fits failed with the following error:\n",
      "Traceback (most recent call last):\n",
      "  File \"/Users/quinne/opt/anaconda3/lib/python3.9/site-packages/sklearn/model_selection/_validation.py\", line 680, in _fit_and_score\n",
      "    estimator.fit(X_train, y_train, **fit_params)\n",
      "  File \"/Users/quinne/opt/anaconda3/lib/python3.9/site-packages/sklearn/pipeline.py\", line 390, in fit\n",
      "    Xt = self._fit(X, y, **fit_params_steps)\n",
      "  File \"/Users/quinne/opt/anaconda3/lib/python3.9/site-packages/sklearn/pipeline.py\", line 348, in _fit\n",
      "    X, fitted_transformer = fit_transform_one_cached(\n",
      "  File \"/Users/quinne/opt/anaconda3/lib/python3.9/site-packages/joblib/memory.py\", line 349, in __call__\n",
      "    return self.func(*args, **kwargs)\n",
      "  File \"/Users/quinne/opt/anaconda3/lib/python3.9/site-packages/sklearn/pipeline.py\", line 893, in _fit_transform_one\n",
      "    res = transformer.fit_transform(X, y, **fit_params)\n",
      "  File \"/Users/quinne/opt/anaconda3/lib/python3.9/site-packages/sklearn/decomposition/_pca.py\", line 407, in fit_transform\n",
      "    U, S, Vt = self._fit(X)\n",
      "  File \"/Users/quinne/opt/anaconda3/lib/python3.9/site-packages/sklearn/decomposition/_pca.py\", line 457, in _fit\n",
      "    return self._fit_full(X, n_components)\n",
      "  File \"/Users/quinne/opt/anaconda3/lib/python3.9/site-packages/sklearn/decomposition/_pca.py\", line 475, in _fit_full\n",
      "    raise ValueError(\n",
      "ValueError: n_components=23 must be between 0 and min(n_samples, n_features)=22 with svd_solver='full'\n",
      "\n",
      "  warnings.warn(some_fits_failed_message, FitFailedWarning)\n",
      "/Users/quinne/opt/anaconda3/lib/python3.9/site-packages/sklearn/model_selection/_validation.py:372: FitFailedWarning: \n",
      "5 fits failed out of a total of 5.\n",
      "The score on these train-test partitions for these parameters will be set to nan.\n",
      "If these failures are not expected, you can try to debug them by setting error_score='raise'.\n",
      "\n",
      "Below are more details about the failures:\n",
      "--------------------------------------------------------------------------------\n",
      "5 fits failed with the following error:\n",
      "Traceback (most recent call last):\n",
      "  File \"/Users/quinne/opt/anaconda3/lib/python3.9/site-packages/sklearn/model_selection/_validation.py\", line 680, in _fit_and_score\n",
      "    estimator.fit(X_train, y_train, **fit_params)\n",
      "  File \"/Users/quinne/opt/anaconda3/lib/python3.9/site-packages/sklearn/pipeline.py\", line 390, in fit\n",
      "    Xt = self._fit(X, y, **fit_params_steps)\n",
      "  File \"/Users/quinne/opt/anaconda3/lib/python3.9/site-packages/sklearn/pipeline.py\", line 348, in _fit\n",
      "    X, fitted_transformer = fit_transform_one_cached(\n",
      "  File \"/Users/quinne/opt/anaconda3/lib/python3.9/site-packages/joblib/memory.py\", line 349, in __call__\n",
      "    return self.func(*args, **kwargs)\n",
      "  File \"/Users/quinne/opt/anaconda3/lib/python3.9/site-packages/sklearn/pipeline.py\", line 893, in _fit_transform_one\n",
      "    res = transformer.fit_transform(X, y, **fit_params)\n",
      "  File \"/Users/quinne/opt/anaconda3/lib/python3.9/site-packages/sklearn/decomposition/_pca.py\", line 407, in fit_transform\n",
      "    U, S, Vt = self._fit(X)\n",
      "  File \"/Users/quinne/opt/anaconda3/lib/python3.9/site-packages/sklearn/decomposition/_pca.py\", line 457, in _fit\n",
      "    return self._fit_full(X, n_components)\n",
      "  File \"/Users/quinne/opt/anaconda3/lib/python3.9/site-packages/sklearn/decomposition/_pca.py\", line 475, in _fit_full\n",
      "    raise ValueError(\n",
      "ValueError: n_components=24 must be between 0 and min(n_samples, n_features)=22 with svd_solver='full'\n",
      "\n",
      "  warnings.warn(some_fits_failed_message, FitFailedWarning)\n"
     ]
    },
    {
     "data": {
      "image/png": "[encoded data removed]",
      "text/plain": [
       "<Figure size 720x432 with 1 Axes>"
      ]
     },
     "metadata": {
      "needs_background": "light"
     },
     "output_type": "display_data"
    }
   ],
   "source": [
    "#cross_validation to find the best number of components\n",
    "logistic_regression = LogisticRegression(solver='lbfgs', max_iter=1000)\n",
    "cross_val_scores = []\n",
    "\n",
    "for components in range(1, 25):\n",
    "    pca = PCA(n_components=components)    \n",
    "    pipeline = Pipeline(steps=[('s',pca),('m',logistic_regression)])\n",
    "    scores = cross_val_score(pipeline, x, df_bat['Result'], cv=5)\n",
    "    cross_val_scores.append(scores.mean())\n",
    "\n",
    "plt.figure(figsize=(10, 6))\n",
    "plt.plot(range(1, 25), cross_val_scores, marker='o', linestyle='--')\n",
    "plt.xlabel('Number of PCA Components')\n",
    "plt.ylabel('Cross-Validation Accuracy')\n",
    "plt.show()"
   ]
  },
  {
   "cell_type": "code",
   "execution_count": 7,
   "id": "3e3121f3",
   "metadata": {},
   "outputs": [
    {
     "name": "stdout",
     "output_type": "stream",
     "text": [
      "Number of PCA components:  10\n",
      "Explained Variance:  [0.13998817 0.12378853 0.1129596  0.09819579 0.07378663 0.05975454\n",
      " 0.05668929 0.0510318  0.04880409 0.04350073]\n",
      "First 10 rows of transformed features: \n",
      "[[ 3.14071086  0.86840522 -0.79516648 -1.51483493 -0.23242869  0.18792067\n",
      "   0.76031136 -0.01408938 -1.46111636  0.57561017]\n",
      " [ 3.02044076  0.93690001  0.98409688 -0.15520287  0.01839839  0.20768989\n",
      "   0.87558559  1.03610641 -1.04618943 -1.2905068 ]\n",
      " [ 3.68013835 -0.21140574  0.50922423  0.81695974 -0.66090872  0.21827803\n",
      "  -0.11396124 -0.41849222 -0.96795741 -0.64844358]\n",
      " [ 3.73443577 -0.61765294  0.54749115  0.27697484 -0.71971091 -1.47728755\n",
      "  -0.21677993  0.13244188 -0.73928367 -0.62883574]\n",
      " [ 2.30000262  2.77843632  0.55929849 -0.44086791  0.66949198  0.06841681\n",
      "   1.0908736  -0.33997114 -1.78339085  0.10023312]\n",
      " [ 2.38218012  2.46423716 -1.29482813 -1.67799059 -0.46845703 -0.36993123\n",
      "   0.70038203  1.15426369 -0.95504174 -0.34554914]\n",
      " [ 3.27761281  0.97956028 -0.23856855  1.04626014 -0.20785895 -0.25499407\n",
      "   0.54866312  0.51708425 -0.60854054  0.61581847]\n",
      " [ 2.90991573  1.35206027  1.43660848 -0.64128969  0.74450564 -0.69584523\n",
      "   1.67922676  1.44461732 -0.02380018  0.39219846]\n",
      " [ 0.54983862 -0.30958144  0.00702049  0.42487942  2.82910467 -0.19058998\n",
      "  -0.74481406 -0.39855472 -0.40204597  0.20842132]\n",
      " [ 1.621837   -0.4668919  -1.40094648 -0.91339373 -0.15462084  0.30497237\n",
      "  -1.22320107 -1.7820958  -0.23559582 -0.74386796]]\n"
     ]
    }
   ],
   "source": [
    "# Create a PCA instance with 10 components\n",
    "pca = PCA(n_components=10, whiten=True)\n",
    "x_pca = pca.fit_transform(x)\n",
    "\n",
    "print('Number of PCA components: ', pca.n_components_)\n",
    "\n",
    "explained_variance = pca.explained_variance_ratio_\n",
    "print(\"Explained Variance: \", explained_variance)\n",
    "\n",
    "print(\"First 10 rows of transformed features: \")\n",
    "print(x_pca[:10,])"
   ]
  },
  {
   "cell_type": "code",
   "execution_count": 8,
   "id": "75fa0360",
   "metadata": {},
   "outputs": [
    {
     "data": {
      "image/png": "[encoded data removed]",
      "text/plain": [
       "<Figure size 576x432 with 1 Axes>"
      ]
     },
     "metadata": {
      "needs_background": "light"
     },
     "output_type": "display_data"
    }
   ],
   "source": [
    "plt.figure(figsize=(8,6))\n",
    "plt.scatter(x_pca[:,0], x_pca[:,1], c=df_bat['Result'])\n",
    "plt.xlabel('First Principal Component')\n",
    "plt.ylabel('Second Principal Component')\n",
    "plt.show()"
   ]
  },
  {
   "cell_type": "code",
   "execution_count": 9,
   "id": "c6134211",
   "metadata": {},
   "outputs": [
    {
     "name": "stdout",
     "output_type": "stream",
     "text": [
      "Cumulative variance ratio:  [0.13998817 0.26377671 0.37673631 0.4749321  0.54871873 0.60847327\n",
      " 0.66516256 0.71619436 0.76499845 0.80849917]\n"
     ]
    },
    {
     "data": {
      "image/png": "[encoded data removed]",
      "text/plain": [
       "<Figure size 576x432 with 1 Axes>"
      ]
     },
     "metadata": {
      "needs_background": "light"
     },
     "output_type": "display_data"
    }
   ],
   "source": [
    "cumulative_variance_ratio = np.cumsum(pca.explained_variance_ratio_)\n",
    "print('Cumulative variance ratio: ', cumulative_variance_ratio)\n",
    "\n",
    "plt.figure(figsize=(8, 6))\n",
    "plt.plot(range(len(cumulative_variance_ratio)), cumulative_variance_ratio)\n",
    "plt.xlabel('Number of Principal Components')\n",
    "plt.ylabel('Cumulative Explained Variance')\n",
    "plt.show()"
   ]
  },
  {
   "cell_type": "code",
   "execution_count": 10,
   "id": "858e9476",
   "metadata": {},
   "outputs": [
    {
     "data": {
      "image/png": "[encoded data removed]",
      "text/plain": [
       "<Figure size 432x288 with 1 Axes>"
      ]
     },
     "metadata": {
      "needs_background": "light"
     },
     "output_type": "display_data"
    }
   ],
   "source": [
    "# Plot the degree of contribution of the principal components\n",
    "plt.bar(range(1, len(pca.explained_variance_ratio_) + 1), pca.explained_variance_ratio_, align='center')\n",
    "plt.xlabel('Principal Component')\n",
    "plt.ylabel('Explained Variance Ratio')\n",
    "plt.title('Explained Variance Ratio vs. Principal Component')\n",
    "plt.show()"
   ]
  },
  {
   "cell_type": "markdown",
   "id": "d31cb41a",
   "metadata": {},
   "source": [
    "## Clustering"
   ]
  },
  {
   "cell_type": "code",
   "execution_count": 11,
   "id": "8be35843",
   "metadata": {},
   "outputs": [
    {
     "name": "stdout",
     "output_type": "stream",
     "text": [
      "Silhouette score: 0.11213122189611859\n",
      "Adjusted Rand Index: -0.0004860403773174523\n"
     ]
    }
   ],
   "source": [
    "kmeans = KMeans(n_clusters=2,  random_state=42)\n",
    "clusters = kmeans.fit_predict(x_pca)\n",
    "\n",
    "df_bat['cluster'] = clusters\n",
    "\n",
    "silhouette = silhouette_score(x_pca, clusters)\n",
    "ari = adjusted_rand_score(df_bat['Result'], clusters)\n",
    "\n",
    "print(f'Silhouette score: {silhouette}')\n",
    "print(f'Adjusted Rand Index: {ari}')"
   ]
  },
  {
   "cell_type": "code",
   "execution_count": 12,
   "id": "0187754d",
   "metadata": {},
   "outputs": [
    {
     "data": {
      "image/png": "[encoded data removed]",
      "text/plain": [
       "<Figure size 864x432 with 2 Axes>"
      ]
     },
     "metadata": {
      "needs_background": "light"
     },
     "output_type": "display_data"
    }
   ],
   "source": [
    "fig, (ax1, ax2) = plt.subplots(1, 2, figsize=(12, 6))\n",
    "\n",
    "# Plot the clusters\n",
    "scatter = ax1.scatter(x_pca[:, 0], x_pca[:, 1], c=clusters, cmap='viridis')\n",
    "ax1.set_title('K-means Clusters')\n",
    "\n",
    "# Plot the true labels\n",
    "scatter = ax2.scatter(x_pca[:, 0], x_pca[:, 1], c=df_bat['Result'], cmap='viridis')\n",
    "ax2.set_title('True Labels: Result')\n",
    "\n",
    "plt.show()"
   ]
  },
  {
   "cell_type": "code",
   "execution_count": 13,
   "id": "07cea6f9",
   "metadata": {},
   "outputs": [
    {
     "name": "stdout",
     "output_type": "stream",
     "text": [
      "Silhouette score:  0.20618234784420797\n",
      "Adjusted Rand Index:  -0.005124423214841477\n"
     ]
    }
   ],
   "source": [
    "# Hierarchical clustering\n",
    "cluster = AgglomerativeClustering(n_clusters=2, affinity='euclidean', linkage='ward')\n",
    "\n",
    "cluster.fit_predict(x_pca)\n",
    "\n",
    "silhouette = metrics.silhouette_score(x_pca, cluster.labels_)\n",
    "print('Silhouette score: ', silhouette)\n",
    "\n",
    "ari = metrics.adjusted_rand_score(df_bat['Result'], cluster.labels_)\n",
    "print('Adjusted Rand Index: ', ari)\n",
    "\n",
    "#There is little similarity between the clustering results and the true labels"
   ]
  },
  {
   "cell_type": "code",
   "execution_count": 14,
   "id": "7cfa0de1",
   "metadata": {},
   "outputs": [
    {
     "data": {
      "image/png": "[encoded data removed]",
      "text/plain": [
       "<Figure size 864x432 with 2 Axes>"
      ]
     },
     "metadata": {
      "needs_background": "light"
     },
     "output_type": "display_data"
    }
   ],
   "source": [
    "fig, axs = plt.subplots(1, 2, figsize=(12, 6))\n",
    "\n",
    "scatter = axs[0].scatter(x_pca[:, 0], x_pca[:, 1], c=cluster.labels_, cmap='viridis')\n",
    "axs[0].set_title('Hierarchical Clustering')\n",
    "axs[0].set_xlabel('PCA 1')\n",
    "axs[0].set_ylabel('PCA 2')\n",
    "legend2 = axs[0].legend(*scatter.legend_elements(), title=\"Classes\")\n",
    "axs[0].add_artist(legend2)\n",
    "\n",
    "\n",
    "scatter = axs[1].scatter(x_pca[:, 0], x_pca[:, 1], c=df_bat['Result'], cmap='viridis')\n",
    "axs[1].set_title('True Labels: Result')\n",
    "axs[1].set_xlabel('PCA 1')\n",
    "axs[1].set_ylabel('PCA 2')\n",
    "legend1 = axs[1].legend(*scatter.legend_elements(), title=\"Classes\")\n",
    "axs[1].add_artist(legend1)\n",
    "\n",
    "plt.show()"
   ]
  },
  {
   "cell_type": "markdown",
   "id": "a32061fd",
   "metadata": {},
   "source": [
    "### The clustering did not work well, so we tried modelling using the reduced dimensional data"
   ]
  },
  {
   "cell_type": "code",
   "execution_count": 15,
   "id": "dad7d2fb",
   "metadata": {},
   "outputs": [],
   "source": [
    "X_train, X_test, y_train, y_test = train_test_split(x_pca, df_bat['Result'], test_size=0.2, random_state=42)"
   ]
  },
  {
   "cell_type": "code",
   "execution_count": 16,
   "id": "85d70b5b",
   "metadata": {},
   "outputs": [
    {
     "name": "stdout",
     "output_type": "stream",
     "text": [
      "              precision    recall  f1-score   support\n",
      "\n",
      "           0       0.92      0.92      0.92        13\n",
      "           1       0.92      0.92      0.92        12\n",
      "\n",
      "    accuracy                           0.92        25\n",
      "   macro avg       0.92      0.92      0.92        25\n",
      "weighted avg       0.92      0.92      0.92        25\n",
      "\n",
      "[[12  1]\n",
      " [ 1 11]]\n"
     ]
    }
   ],
   "source": [
    "# Logistic Regression\n",
    "lr_pca = LogisticRegression()\n",
    "lr_pca.fit(X_train, y_train)\n",
    "\n",
    "y_pred = lr_pca.predict(X_test)\n",
    "\n",
    "print(classification_report(y_test, y_pred))\n",
    "print(confusion_matrix(y_test, y_pred))"
   ]
  },
  {
   "cell_type": "code",
   "execution_count": 19,
   "id": "336004c9",
   "metadata": {},
   "outputs": [
    {
     "data": {
      "image/png": "[encoded data removed]",
      "text/plain": [
       "<Figure size 432x288 with 1 Axes>"
      ]
     },
     "metadata": {
      "needs_background": "light"
     },
     "output_type": "display_data"
    }
   ],
   "source": [
    "fpr, tpr, thresholds = roc_curve(y_test, lr_pca.predict_proba(X_test)[:,1])\n",
    "\n",
    "roc_auc = auc(fpr, tpr)\n",
    "\n",
    "plt.figure()\n",
    "lw = 2\n",
    "plt.plot(fpr, tpr, color='darkorange',\n",
    "         lw=lw, label='ROC curve (area = %0.2f)' % roc_auc)\n",
    "plt.plot([0, 1], [0, 1], color='navy', lw=lw, linestyle='--')\n",
    "plt.xlim([0.0, 1.0])\n",
    "plt.ylim([0.0, 1.05])\n",
    "plt.xlabel('False Positive Rate')\n",
    "plt.ylabel('True Positive Rate')\n",
    "plt.title('Receiver Operating Characteristic')\n",
    "plt.legend(loc=\"lower right\")\n",
    "plt.show()"
   ]
  },
  {
   "cell_type": "code",
   "execution_count": 20,
   "id": "6e88f51c",
   "metadata": {},
   "outputs": [
    {
     "name": "stdout",
     "output_type": "stream",
     "text": [
      "              precision    recall  f1-score   support\n",
      "\n",
      "           0       1.00      0.92      0.96        13\n",
      "           1       0.92      1.00      0.96        12\n",
      "\n",
      "    accuracy                           0.96        25\n",
      "   macro avg       0.96      0.96      0.96        25\n",
      "weighted avg       0.96      0.96      0.96        25\n",
      "\n",
      "[[12  1]\n",
      " [ 0 12]]\n"
     ]
    }
   ],
   "source": [
    "# Naive Bayes\n",
    "gnb = GaussianNB()\n",
    "gnb.fit(X_train, y_train)\n",
    "\n",
    "y_pred_gnb = gnb.predict(X_test)\n",
    "\n",
    "print(classification_report(y_test, y_pred_gnb))\n",
    "print(confusion_matrix(y_test, y_pred_gnb))"
   ]
  },
  {
   "cell_type": "code",
   "execution_count": 21,
   "id": "384cdc8b",
   "metadata": {},
   "outputs": [
    {
     "name": "stderr",
     "output_type": "stream",
     "text": [
      "/Users/quinne/opt/anaconda3/lib/python3.9/site-packages/sklearn/utils/deprecation.py:87: FutureWarning: Function plot_confusion_matrix is deprecated; Function `plot_confusion_matrix` is deprecated in 1.0 and will be removed in 1.2. Use one of the class methods: ConfusionMatrixDisplay.from_predictions or ConfusionMatrixDisplay.from_estimator.\n",
      "  warnings.warn(msg, category=FutureWarning)\n"
     ]
    },
    {
     "data": {
      "image/png": "[encoded data removed]",
      "text/plain": [
       "<Figure size 432x288 with 2 Axes>"
      ]
     },
     "metadata": {
      "needs_background": "light"
     },
     "output_type": "display_data"
    },
    {
     "data": {
      "image/png": "[encoded data removed]",
      "text/plain": [
       "<Figure size 432x288 with 1 Axes>"
      ]
     },
     "metadata": {
      "needs_background": "light"
     },
     "output_type": "display_data"
    }
   ],
   "source": [
    "# Visualizing the confusion matrix\n",
    "plot_confusion_matrix(gnb, X_test, y_test, cmap=plt.cm.Blues, normalize='true')\n",
    "\n",
    "# ROC curve\n",
    "y_pred_prob = gnb.predict_proba(X_test)[:,1]\n",
    "fpr, tpr, thresholds = roc_curve(y_test, y_pred_prob)\n",
    "roc_auc = auc(fpr, tpr)\n",
    "\n",
    "plt.figure()\n",
    "plt.plot(fpr, tpr, color='darkorange', lw=1, label='ROC curve (area = %0.2f)' % roc_auc)\n",
    "plt.plot([0, 1], [0, 1], color='navy', lw=1, linestyle='--')\n",
    "plt.xlim([0.0, 1.0])\n",
    "plt.ylim([0.0, 1.05])\n",
    "plt.xlabel('False Positive Rate')\n",
    "plt.ylabel('True Positive Rate')\n",
    "plt.title('Receiver Operating Characteristic')\n",
    "plt.legend(loc=\"lower right\")\n",
    "plt.show()"
   ]
  },
  {
   "cell_type": "markdown",
   "id": "793b644d",
   "metadata": {},
   "source": [
    "### The plain Bayesian classifier assumes independence between features, whereas the PCA reduced features may be a linear combination of the original features and therefore may not fully satisfy the independence requirement.\n",
    "\n",
    "### Although the classifiers modeled with the reduced dimensional data were very good, we tried to model with the un-dimensioned data to compare performance\n",
    "\n",
    "### Modelling with un-dimensionalised data"
   ]
  },
  {
   "cell_type": "code",
   "execution_count": 22,
   "id": "0f649181",
   "metadata": {},
   "outputs": [],
   "source": [
    "# Split the data into features (X) and target (y)\n",
    "X = df_bat.drop('Result', axis=1)\n",
    "y = df_bat['Result']\n",
    "\n",
    "# Feature scaling\n",
    "scaler = StandardScaler()\n",
    "X = scaler.fit_transform(X)\n",
    "\n",
    "# Split the data into train and test sets\n",
    "X_train, X_test, y_train, y_test = train_test_split(X, y, test_size=0.2, random_state=42)"
   ]
  },
  {
   "cell_type": "markdown",
   "id": "d8cb92f2",
   "metadata": {},
   "source": [
    "### Logistic Regression"
   ]
  },
  {
   "cell_type": "code",
   "execution_count": 23,
   "id": "021c3860",
   "metadata": {},
   "outputs": [
    {
     "name": "stdout",
     "output_type": "stream",
     "text": [
      "Logistic Regression Results:\n",
      "              precision    recall  f1-score   support\n",
      "\n",
      "           0       0.86      0.92      0.89        13\n",
      "           1       0.91      0.83      0.87        12\n",
      "\n",
      "    accuracy                           0.88        25\n",
      "   macro avg       0.88      0.88      0.88        25\n",
      "weighted avg       0.88      0.88      0.88        25\n",
      "\n"
     ]
    }
   ],
   "source": [
    "lr = LogisticRegression()\n",
    "lr.fit(X_train, y_train)\n",
    "y_pred_lr = lr.predict(X_test)\n",
    "\n",
    "print(\"Logistic Regression Results:\")\n",
    "print(classification_report(y_test, y_pred_lr))"
   ]
  },
  {
   "cell_type": "code",
   "execution_count": 27,
   "id": "e20cac74",
   "metadata": {},
   "outputs": [
    {
     "name": "stdout",
     "output_type": "stream",
     "text": [
      "Best parameters for Logistic Regression:  {'C': 0.615848211066026, 'penalty': 'l2'}\n"
     ]
    }
   ],
   "source": [
    "from sklearn.model_selection import GridSearchCV\n",
    "\n",
    "param_grid = {'C': np.logspace(-4, 4, 20), 'penalty': ['l1', 'l2']}\n",
    "grid_search = GridSearchCV(LogisticRegression(solver='liblinear'), param_grid, cv=5)\n",
    "grid_search.fit(X_train, y_train)\n",
    "\n",
    "print('Best parameters for Logistic Regression: ', grid_search.best_params_)"
   ]
  },
  {
   "cell_type": "code",
   "execution_count": 28,
   "id": "7b44a335",
   "metadata": {},
   "outputs": [
    {
     "name": "stdout",
     "output_type": "stream",
     "text": [
      "Accuracy of Logistic Regression with optimized parameters:  0.84\n"
     ]
    }
   ],
   "source": [
    "clf_lr_optimized = LogisticRegression(C=0.615848211066026, penalty='l2', solver='liblinear')\n",
    "clf_lr_optimized.fit(X_train, y_train)\n",
    "\n",
    "y_pred_lr_optimized = clf_lr_optimized.predict(X_test)\n",
    "print('Accuracy of Logistic Regression with optimized parameters: ', accuracy_score(y_test, y_pred_lr_optimized))"
   ]
  },
  {
   "cell_type": "markdown",
   "id": "40ec9a36",
   "metadata": {},
   "source": [
    "### Gaussian Naive Bayes"
   ]
  },
  {
   "cell_type": "code",
   "execution_count": 29,
   "id": "88c22959",
   "metadata": {},
   "outputs": [
    {
     "name": "stdout",
     "output_type": "stream",
     "text": [
      "Gaussian Naive Bayes Results:\n",
      "              precision    recall  f1-score   support\n",
      "\n",
      "           0       0.77      0.77      0.77        13\n",
      "           1       0.75      0.75      0.75        12\n",
      "\n",
      "    accuracy                           0.76        25\n",
      "   macro avg       0.76      0.76      0.76        25\n",
      "weighted avg       0.76      0.76      0.76        25\n",
      "\n"
     ]
    }
   ],
   "source": [
    "gnb = GaussianNB()\n",
    "gnb.fit(X_train, y_train)\n",
    "y_pred_gnb = gnb.predict(X_test)\n",
    "\n",
    "print(\"Gaussian Naive Bayes Results:\")\n",
    "print(classification_report(y_test, y_pred_gnb))"
   ]
  },
  {
   "cell_type": "code",
   "execution_count": 30,
   "id": "2490df3a",
   "metadata": {},
   "outputs": [
    {
     "name": "stdout",
     "output_type": "stream",
     "text": [
      "Best parameter for Naive Bayes:  {'alpha': 1.0}\n"
     ]
    }
   ],
   "source": [
    "param_grid = {'alpha': np.linspace(0.1, 1, 10)}\n",
    "grid_search = GridSearchCV(BernoulliNB(), param_grid, cv=5)\n",
    "grid_search.fit(X_train, y_train)\n",
    "\n",
    "print('Best parameter for Naive Bayes: ', grid_search.best_params_)"
   ]
  },
  {
   "cell_type": "code",
   "execution_count": 31,
   "id": "2f4f06e7",
   "metadata": {},
   "outputs": [
    {
     "name": "stdout",
     "output_type": "stream",
     "text": [
      "Accuracy of Naive Bayes with optimized alpha:  0.84\n"
     ]
    }
   ],
   "source": [
    "clf_nb_optimized = BernoulliNB(alpha=1.0)\n",
    "clf_nb_optimized.fit(X_train, y_train)\n",
    "\n",
    "y_pred_nb_optimized = clf_nb_optimized.predict(X_test)\n",
    "print('Accuracy of Naive Bayes with optimized alpha: ', accuracy_score(y_test, y_pred_nb_optimized))"
   ]
  },
  {
   "cell_type": "markdown",
   "id": "09a5c35f",
   "metadata": {},
   "source": [
    "### Tree based models: In fact it is not necessary to feature scaling, overfitting now"
   ]
  },
  {
   "cell_type": "code",
   "execution_count": 32,
   "id": "0cf06da8",
   "metadata": {},
   "outputs": [
    {
     "name": "stdout",
     "output_type": "stream",
     "text": [
      "Decision Tree Results:\n",
      "              precision    recall  f1-score   support\n",
      "\n",
      "           0       1.00      1.00      1.00        13\n",
      "           1       1.00      1.00      1.00        12\n",
      "\n",
      "    accuracy                           1.00        25\n",
      "   macro avg       1.00      1.00      1.00        25\n",
      "weighted avg       1.00      1.00      1.00        25\n",
      "\n",
      "Bagging Results:\n",
      "              precision    recall  f1-score   support\n",
      "\n",
      "           0       1.00      1.00      1.00        13\n",
      "           1       1.00      1.00      1.00        12\n",
      "\n",
      "    accuracy                           1.00        25\n",
      "   macro avg       1.00      1.00      1.00        25\n",
      "weighted avg       1.00      1.00      1.00        25\n",
      "\n",
      "Random Forest Results:\n",
      "              precision    recall  f1-score   support\n",
      "\n",
      "           0       0.87      1.00      0.93        13\n",
      "           1       1.00      0.83      0.91        12\n",
      "\n",
      "    accuracy                           0.92        25\n",
      "   macro avg       0.93      0.92      0.92        25\n",
      "weighted avg       0.93      0.92      0.92        25\n",
      "\n",
      "Boosting Results:\n",
      "              precision    recall  f1-score   support\n",
      "\n",
      "           0       1.00      1.00      1.00        13\n",
      "           1       1.00      1.00      1.00        12\n",
      "\n",
      "    accuracy                           1.00        25\n",
      "   macro avg       1.00      1.00      1.00        25\n",
      "weighted avg       1.00      1.00      1.00        25\n",
      "\n"
     ]
    }
   ],
   "source": [
    "# Decision Tree\n",
    "dt = DecisionTreeClassifier(random_state=42)\n",
    "dt.fit(X_train, y_train)\n",
    "y_pred_dt = dt.predict(X_test)\n",
    "print(\"Decision Tree Results:\")\n",
    "print(classification_report(y_test, y_pred_dt))\n",
    "\n",
    "# Bagging\n",
    "bag = BaggingClassifier(random_state=42)\n",
    "bag.fit(X_train, y_train)\n",
    "y_pred_bag = bag.predict(X_test)\n",
    "print(\"Bagging Results:\")\n",
    "print(classification_report(y_test, y_pred_bag))\n",
    "\n",
    "# Random Forest\n",
    "rf = RandomForestClassifier(random_state=42)\n",
    "rf.fit(X_train, y_train)\n",
    "y_pred_rf = rf.predict(X_test)\n",
    "print(\"Random Forest Results:\")\n",
    "print(classification_report(y_test, y_pred_rf))\n",
    "\n",
    "# Boosting\n",
    "boost = GradientBoostingClassifier(random_state=42)\n",
    "boost.fit(X_train, y_train)\n",
    "y_pred_boost = boost.predict(X_test)\n",
    "print(\"Boosting Results:\")\n",
    "print(classification_report(y_test, y_pred_boost))"
   ]
  },
  {
   "cell_type": "markdown",
   "id": "44f0853f",
   "metadata": {},
   "source": [
    "### SVM"
   ]
  },
  {
   "cell_type": "code",
   "execution_count": 40,
   "id": "9f4f6d9f",
   "metadata": {},
   "outputs": [
    {
     "name": "stdout",
     "output_type": "stream",
     "text": [
      "Training Accuracy (SVM):  0.9795918367346939\n",
      "Test Accuracy (SVM):  0.88\n",
      "              precision    recall  f1-score   support\n",
      "\n",
      "           0       0.81      1.00      0.90        13\n",
      "           1       1.00      0.75      0.86        12\n",
      "\n",
      "    accuracy                           0.88        25\n",
      "   macro avg       0.91      0.88      0.88        25\n",
      "weighted avg       0.90      0.88      0.88        25\n",
      "\n"
     ]
    }
   ],
   "source": [
    "from sklearn.svm import SVC\n",
    "\n",
    "svm = SVC(probability=True)\n",
    "svm.fit(X_train, y_train)\n",
    "\n",
    "y_pred_train_svm = svm.predict(X_train)\n",
    "y_pred_test_svm = svm.predict(X_test)\n",
    "\n",
    "print('Training Accuracy (SVM): ', accuracy_score(y_train, y_pred_train_svm))\n",
    "print('Test Accuracy (SVM): ', accuracy_score(y_test, y_pred_test_svm))\n",
    "print(classification_report(y_test, y_pred_test_svm))"
   ]
  },
  {
   "cell_type": "markdown",
   "id": "b3cd9ba4",
   "metadata": {},
   "source": [
    "### KNN"
   ]
  },
  {
   "cell_type": "code",
   "execution_count": 41,
   "id": "2d6ccd1c",
   "metadata": {},
   "outputs": [
    {
     "name": "stdout",
     "output_type": "stream",
     "text": [
      "Best parameter for KNN:  {'n_neighbors': 3}\n",
      "Training Accuracy (KNN):  0.9489795918367347\n",
      "Test Accuracy (KNN):  0.84\n",
      "              precision    recall  f1-score   support\n",
      "\n",
      "           0       0.80      0.92      0.86        13\n",
      "           1       0.90      0.75      0.82        12\n",
      "\n",
      "    accuracy                           0.84        25\n",
      "   macro avg       0.85      0.84      0.84        25\n",
      "weighted avg       0.85      0.84      0.84        25\n",
      "\n"
     ]
    }
   ],
   "source": [
    "knn = KNeighborsClassifier()\n",
    "param_grid = {'n_neighbors': np.arange(1, 25)}\n",
    "\n",
    "knn_gscv = GridSearchCV(knn, param_grid, cv=5)\n",
    "knn_gscv.fit(X_train, y_train)\n",
    "\n",
    "print(\"Best parameter for KNN: \", knn_gscv.best_params_)\n",
    "\n",
    "knn_best = KNeighborsClassifier(n_neighbors=knn_gscv.best_params_['n_neighbors'])\n",
    "knn_best.fit(X_train, y_train)\n",
    "\n",
    "y_pred_knn = knn_best.predict(X_test)\n",
    "\n",
    "y_pred_train_knn = knn_best.predict(X_train)\n",
    "y_pred_test_knn = knn_best.predict(X_test)\n",
    "\n",
    "print('Training Accuracy (KNN): ', accuracy_score(y_train, y_pred_train_knn))\n",
    "print('Test Accuracy (KNN): ', accuracy_score(y_test, y_pred_test_knn))\n",
    "print(classification_report(y_test, y_pred_test_knn))"
   ]
  },
  {
   "cell_type": "markdown",
   "id": "93ca67ce",
   "metadata": {},
   "source": [
    "### Points to note: \n",
    "\n",
    "1.  XGBoost and CatBoost are two very popular gradient boosting decision tree algorithms. Gradient boosting is a machine learning technique where the basic idea is to use a new model at each step to correct the errors of the previous model.\n",
    "\n",
    "2.  In both XGBoost and CatBoost, these models are decision trees. The models are added consecutively, each attempting to correct the errors of its predecessor. The final prediction is a weighted sum of all the individual tree predictions.\n",
    "\n",
    "3.  CatBoost is particularly suitable for processing classification features."
   ]
  },
  {
   "cell_type": "code",
   "execution_count": null,
   "id": "6a4a8f61",
   "metadata": {},
   "outputs": [],
   "source": [
    "# from xgboost import XGBClassifier\n",
    "# from sklearn.metrics import accuracy_score\n",
    "\n",
    "# xgb = XGBClassifier()\n",
    "# xgb.fit(X_train, y_train)\n",
    "# y_pred = xgb.predict(X_test)\n",
    "\n",
    "# accuracy = accuracy_score(y_test, y_pred)\n",
    "# print(\"Accuracy: %.2f%%\" % (accuracy * 100.0))"
   ]
  },
  {
   "cell_type": "code",
   "execution_count": null,
   "id": "607de3f9",
   "metadata": {},
   "outputs": [],
   "source": [
    "# from catboost import CatBoostClassifier\n",
    "# from sklearn.metrics import accuracy_score\n",
    "\n",
    "# catb = CatBoostClassifier()\n",
    "# catb.fit(X_train, y_train)\n",
    "# y_pred = catb.predict(X_test)\n",
    "\n",
    "# accuracy = accuracy_score(y_test, y_pred)\n",
    "# print(\"Accuracy: %.2f%%\" % (accuracy * 100.0))"
   ]
  },
  {
   "cell_type": "markdown",
   "id": "14cb53f2",
   "metadata": {},
   "source": [
    "### Points to note: DNN, Not yet completed, still needs improvement in terms of model complexity"
   ]
  }
 ],
 "metadata": {
  "kernelspec": {
   "display_name": "Python 3 (ipykernel)",
   "language": "python",
   "name": "python3"
  },
  "language_info": {
   "codemirror_mode": {
    "name": "ipython",
    "version": 3
   },
   "file_extension": ".py",
   "mimetype": "text/x-python",
   "name": "python",
   "nbconvert_exporter": "python",
   "pygments_lexer": "ipython3",
   "version": "3.9.12"
  }
 },
 "nbformat": 4,
 "nbformat_minor": 5
}
